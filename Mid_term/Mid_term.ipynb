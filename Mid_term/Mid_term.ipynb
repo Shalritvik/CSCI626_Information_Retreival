{
 "cells": [
  {
   "cell_type": "code",
   "execution_count": 1,
   "metadata": {},
   "outputs": [],
   "source": [
    "import nltk"
   ]
  },
  {
   "cell_type": "markdown",
   "metadata": {},
   "source": [
    "1. [18 points] Open the book \"austen-emma.txt\"\n"
   ]
  },
  {
   "cell_type": "markdown",
   "metadata": {},
   "source": [
    "1.How many tokens and distinct words do you have after tokenization?"
   ]
  },
  {
   "cell_type": "code",
   "execution_count": 2,
   "metadata": {},
   "outputs": [],
   "source": [
    "f = open('austen-emma.txt')\n",
    "raw = f.read()"
   ]
  },
  {
   "cell_type": "code",
   "execution_count": 3,
   "metadata": {},
   "outputs": [],
   "source": [
    "from nltk import word_tokenize\n",
    "tokens = word_tokenize(raw)"
   ]
  },
  {
   "cell_type": "code",
   "execution_count": 4,
   "metadata": {},
   "outputs": [
    {
     "name": "stdout",
     "output_type": "stream",
     "text": [
      "Tokens: 191855\n"
     ]
    }
   ],
   "source": [
    "print(\"Tokens:\",len(tokens))\n"
   ]
  },
  {
   "cell_type": "code",
   "execution_count": 5,
   "metadata": {},
   "outputs": [
    {
     "name": "stdout",
     "output_type": "stream",
     "text": [
      "Distinct Tokens: 8376\n"
     ]
    }
   ],
   "source": [
    "print(\"Distinct Tokens:\",len(set(tokens)))\n"
   ]
  },
  {
   "cell_type": "markdown",
   "metadata": {},
   "source": [
    "2). How many tokens and distinct words do you have after removing the stop-words? (use the NLTK\n",
    "stop-word list here)"
   ]
  },
  {
   "cell_type": "code",
   "execution_count": 6,
   "metadata": {},
   "outputs": [
    {
     "name": "stderr",
     "output_type": "stream",
     "text": [
      "[nltk_data] Downloading package stopwords to\n",
      "[nltk_data]     C:\\Users\\Shalritvik\\AppData\\Roaming\\nltk_data...\n",
      "[nltk_data]   Package stopwords is already up-to-date!\n"
     ]
    }
   ],
   "source": [
    "nltk.download('stopwords')\n",
    "from nltk.corpus import stopwords"
   ]
  },
  {
   "cell_type": "code",
   "execution_count": 7,
   "metadata": {},
   "outputs": [],
   "source": [
    "stop_words = set(stopwords.words('english'))"
   ]
  },
  {
   "cell_type": "code",
   "execution_count": 8,
   "metadata": {},
   "outputs": [
    {
     "name": "stdout",
     "output_type": "stream",
     "text": [
      "Number of tokens after stopword removal : 104434\n"
     ]
    }
   ],
   "source": [
    "filtered_tokens = [word for word in tokens if word.lower() not in stop_words]\n",
    "print(\"Number of tokens after stopword removal :\",len(filtered_tokens))"
   ]
  },
  {
   "cell_type": "code",
   "execution_count": 9,
   "metadata": {},
   "outputs": [
    {
     "name": "stdout",
     "output_type": "stream",
     "text": [
      "Number of distinct after stopword removal : 8159\n"
     ]
    }
   ],
   "source": [
    "print(\"Number of distinct after stopword removal :\",len(set(filtered_tokens)))"
   ]
  },
  {
   "cell_type": "markdown",
   "metadata": {},
   "source": [
    "3) How many times that the token \"situation\" appears?"
   ]
  },
  {
   "cell_type": "code",
   "execution_count": 10,
   "metadata": {},
   "outputs": [
    {
     "name": "stdout",
     "output_type": "stream",
     "text": [
      "Number of times situation appears: 64\n"
     ]
    }
   ],
   "source": [
    "print(\"Number of times situation appears:\",tokens.count(\"situation\"))"
   ]
  },
  {
   "cell_type": "markdown",
   "metadata": {},
   "source": [
    "4) Is there any common contexts that are shared by the token \"judgment\" and \"situation\"? If yes, list all of\n",
    "the common context you found."
   ]
  },
  {
   "cell_type": "code",
   "execution_count": 11,
   "metadata": {},
   "outputs": [
    {
     "name": "stdout",
     "output_type": "stream",
     "text": [
      "Displaying 25 of 28 matches:\n",
      " ; highly esteeming Miss Taylor 's judgment , but directed chiefly by her own \n",
      " -- I remember thinking it did her judgment so much credit , that I preserved \n",
      "tches his senses and satisfies his judgment . Oh ! Harriet may pick and chuse \n",
      "a sort of habitual respect for his judgment in general , which made her dislik\n",
      " is a certainty . Receive it on my judgment . It is a sort of prologue to the \n",
      "doubt you were much my superior in judgment at that period of our lives ; but \n",
      "e allowed , I hope , the use of my judgment as well as Mr . Perry. -- I want h\n",
      "hich people of high pretensions to judgment are for ever falling into ; and no\n",
      "ed as his way , as a mere error of judgment , of knowledge , of taste , as one\n",
      " now reached the age which her own judgment had fixed on for beginning . She h\n",
      "rself -- '' '' Oh ! as for me , my judgment is worth nothing . Where I have a \n",
      "ough for Emma to form a reasonable judgment , as their visit included all the \n",
      "nvinced . Your reasonings carry my judgment along with them entirely . At firs\n",
      "le . I should have expected better judgment in Colonel Campbell . '' From that\n",
      "tle accomplishment , but so little judgment that she thought herself coming wi\n",
      "lar desire , to help Mr. Weston 's judgment ; and they were so very closely fo\n",
      "on , meant nothing , though in the judgment of most people looking on it must \n",
      "s are , that you can form any just judgment . Short of that , it is all guess \n",
      "ave so little confidence in my own judgment , that whenever I marry , I hope s\n",
      "- but that good Mrs. Elton , whose judgment never fails her , saw farther than\n",
      "g round , comparing and sitting in judgment on sentiments and words that were \n",
      "h steadiness of character and good judgment as I have always given her credit \n",
      "ffection must have overpowered her judgment . '' `` Yes , I have no doubt of h\n",
      "reproach to her for ever ; but her judgment was as strong as her feelings , an\n",
      "mentary conquest of eagerness over judgment , aspired to be told that she did \n"
     ]
    }
   ],
   "source": [
    "from nltk.text import Text\n",
    "text = Text(tokens)\n",
    "text.concordance(\"judgment\")"
   ]
  },
  {
   "cell_type": "code",
   "execution_count": 12,
   "metadata": {},
   "outputs": [
    {
     "name": "stdout",
     "output_type": "stream",
     "text": [
      "Displaying 25 of 64 matches:\n",
      "e real evils , indeed , of Emma 's situation were the power of having rather to\n",
      " own comfort to seek , and his own situation to improve as he could . A complet\n",
      "racter ; she was more equal to her situation than most girls would have been , \n",
      "venings in the week together . Her situation was altogether the subject of hour\n",
      "ertaking ; highly becoming her own situation in life , her leisure , and powers\n",
      "uld never believe that in the same situation _she_ should not have discovered t\n",
      "well ; his figure , and look , and situation in life seem to allow it ; but if \n",
      "e of its expediency . Mr. Elton 's situation was most suitable , quite the gent\n",
      "house 's family and wanted another situation ; I do not think you would have sp\n",
      "rationally to the varieties of her situation in life. -- They only give a littl\n",
      "such inimitable spirit ! Any other situation would have been much less in chara\n",
      "s much her superior in sense as in situation . Emma , your infatuation about th\n",
      "er form . You and Mr. Elton are by situation called together ; you belong to on\n",
      " could be . It had no advantage of situation ; but had been very much smartened\n",
      " should be a fool to change such a situation as mine . Fortune I do not want ; \n",
      "or by any body else , to give up a situation which she believed more replete wi\n",
      "to recommend him to notice but his situation and his civility. -- But he had fa\n",
      "out an intimate knowledge of their situation . Nobody , who has not been in the\n",
      " at once in Mr. Frank Churchill 's situation , you would be able to say and do \n",
      "ion . '' `` Oh , the difference of situation and habit ! I wish you would try t\n",
      "took in her history , indeed , her situation , as well as her beauty ; when she\n",
      "ven to be very small , admired the situation , the walk to Highbury , Highbury \n",
      "l . '' `` You know Miss Fairfax 's situation in life , I conclude ; what she is\n",
      " when you speak of Miss Fairfax 's situation in life . I will move a little far\n",
      "ttle . I perfectly understand your situation , however , Miss Woodhouse -- ( lo\n"
     ]
    }
   ],
   "source": [
    "text.concordance(\"situation\")"
   ]
  },
  {
   "cell_type": "code",
   "execution_count": 28,
   "metadata": {},
   "outputs": [
    {
     "name": "stdout",
     "output_type": "stream",
     "text": [
      "'s_, her_was her_, the_of\n"
     ]
    }
   ],
   "source": [
    "text.common_contexts([\"situation\",\"judgment\"])"
   ]
  },
  {
   "cell_type": "markdown",
   "metadata": {},
   "source": [
    "converting to lower case"
   ]
  },
  {
   "cell_type": "code",
   "execution_count": 14,
   "metadata": {},
   "outputs": [],
   "source": [
    "filtered_tokens = [w.lower() for w in filtered_tokens]"
   ]
  },
  {
   "cell_type": "markdown",
   "metadata": {},
   "source": [
    "5) Generate the frequency dictionary after the tokenization & stop-word removal, write the most common\n",
    "50 tokens with their frequency to the output file “fdict1.txt”.\n"
   ]
  },
  {
   "cell_type": "code",
   "execution_count": 15,
   "metadata": {},
   "outputs": [],
   "source": [
    "from collections import Counter\n",
    "freq_dict = Counter(filtered_tokens)\n"
   ]
  },
  {
   "cell_type": "code",
   "execution_count": 16,
   "metadata": {},
   "outputs": [],
   "source": [
    "with open('fdict1.txt', 'w') as f_output:\n",
    "    for word, freq in freq_dict.most_common(50):\n",
    "        f_output.write(f\"{word}: {freq}\\n\")"
   ]
  },
  {
   "cell_type": "markdown",
   "metadata": {},
   "source": [
    "    2. [18 points] Extract & parsing the text data from\n",
    "\" https://www.nyit.edu/news/articles/guiliano-global-fellows-glacier-saviors-exoplanets-and-more/\""
   ]
  },
  {
   "cell_type": "markdown",
   "metadata": {},
   "source": [
    "1) Apply word tokenization to the file. "
   ]
  },
  {
   "cell_type": "code",
   "execution_count": 17,
   "metadata": {},
   "outputs": [],
   "source": [
    "import nltk\n",
    "from urllib import request"
   ]
  },
  {
   "cell_type": "code",
   "execution_count": 18,
   "metadata": {},
   "outputs": [],
   "source": [
    "url = \"https://www.nyit.edu/news/articles/guiliano-global-fellows-glacier-saviors-exoplanets-and-more/\"\n",
    "html = request.urlopen(url).read().decode('utf8')"
   ]
  },
  {
   "cell_type": "code",
   "execution_count": 19,
   "metadata": {},
   "outputs": [
    {
     "data": {
      "text/plain": [
       "\"\\n\\n\\n\\n\\n\\n\\nGuiliano Global Fellows: Glacier Saviors, Exoplanets, and More | New York Tech\\n\\n\\n\\n\\n\\n\\n\\n\\n\\n\\n\\n\\n\\n\\n\\n\\n\\n\\n\\n\\n\\n\\n\\n\\n\\n\\n\\n\\n\\n\\n\\n\\n\\n\\n\\n\\n\\n\\n\\n\\n\\n\\n\\n\\n\\n\\n\\n\\n\\n\\n\\n\\n\\n\\n\\n\\n\\n\\n\\n\\n\\n\\n\\n\\n\\n\\n\\n\\n\\n\\n\\n\\nSearch\\n\\n\\n\\n\\n\\n\\n\\n\\n\\n\\nAbout\\nMedia Coverage\\nMagazine\\nResearch\\n Current Students\\nFaculty & Staff\\nAlumni\\nVancouver\\n Request Info\\nVisit\\nApply\\nGive\\n \\n\\n\\n\\n\\n\\n\\n\\n\\n\\n\\n \\n\\n\\nGuiliano Global Fellows: Glacier Saviors, Exoplanets, and More\\n\\n      Allison Eichler|     October 8, 2024\\n\\n\\nHome > New York Tech News > Articles > Guiliano Global Fellows: Glacier Saviors, Exoplanets, and More\\n\\n\\n\\n\\n\\nExplore\\nExplore\\n\\nNews\\nMedia Coverage\\nExpert Insights\\nNews Archive\\nMedia Coverage Archive\\n \\n\\n\\n\\n\\nPictured: Dev Sharma (standing, middle) and Dolly Shyam (right) interviewed farmers to gain insight into the impact of artificial glaciers in the local village, located at an altitude of 13,000 feet in the northwestern Himalayas.\\nSince the Edward Guiliano Global Fellowship Program’s inception in 2014, more than 200 New York Tech students have participated in experiential-based learning opportunities across the United States and in countries like Costa Rica, Mongolia, Canada, Eswatini, and more. For the last 10 years, the fellowship has enabled these young scholars to take high-level research trips, linking their academic studies with a broader perspective of the world around them.\\nThe most recent cohort journeyed at least 200 miles from their home or New York Tech campus—staying as “local” as Maryland and trekking as far as India—and were supported with monetary amounts between $750 and $5,000.\\nOne student, Navjot Guru, has yet to complete her research trip, but New York Tech News caught up with a few who have returned to learn about their transformative experiences.\\nHistoric Medicine\\n\\nNoah Hoonhout fused his passions for history and medicine with his research at the Royal College of Surgeons of England and at Kings College London.\\nOsteopathic medicine student Noah Hoonhout has a bachelor’s degree in history, so it is fitting that with his $2,750 in fellowship funding he would travel to London to complete his project “The Romantic Medicine of Joseph Henry Green.”\\nFor one week in July, Hoonhout performed research within the archives of the Royal College of Surgeons of England and at Kings College London, studying 19th-century English physician Joseph Henry Green. With great interest in the history of medicine, Hoonhout sought to examine Green’s contributions at the intersection of the humanities and medicine.\\nThrough reading the physician’s books, essays, and letters, he learned of Green’s biography, academic interests, and career achievements, including an assortment of philosophical work—which may have influenced the medical field at the time. Reading Green’s debates about human anatomy, evolution, medical reform, and philosophy showed Hoonhout how past physicians viewed the medical profession; his own desire to pursue medicine has only been reaffirmed as he synthesizes his research discoveries. “This research trip was like a gateway into the academic world of the history of medicine,” Hoonhout says. “I am very grateful for the fellowship program giving me this opportunity.”\\nHimalayan Glacier Saviors\\n\\nLaetitia Mouafo served as her team’s data scientist in analyzing glacier activity in the Himalayas in Leh, Ladakh, India.\\nWith a shared passion for climate change and sustainability, graduate data science students Laetitia Mouafo, Dev Sharma, and Dolly Shyam received a total of $11,745 to support their travel to Leh, Ladakh, India, where they collaborated with local communities for their research project, “Leveraging Data Science to Mitigate Glacier Melting in the Himalayas.”\\nLocated on the northwestern end of the Himalayas, Ladakh is known for its cold desert climate, minimal precipitation, and heavy reliance on glacial meltwater for agriculture. But climate change has caused a rapid retreat of glaciers, creating water scarcity and threatening agricultural livelihood, explains Sharma, who served as the team’s climate scientist. To counteract these effects, Ladakh locals have developed artificial glaciers, or “ice stupas.” These conical structures use remote sensing technologies and ground surveys to store water during the winter and gradually release it during warmer months, ensuring a sustained water supply for irrigation during the pre-sowing period.\\nOn-site, the trio’s research involved gathering and analyzing datasets related to glacier characteristics, climate patterns, and environmental factors contributing to melting. Mouafo, the team’s data scientist, says the group used advanced data analysis and machine learning algorithms to identify key drivers of glacier melting, predict future trends, and explore potential solutions, such as improved water resource management and sustainable land use practices. The team provided actionable recommendations to policymakers and local communities to help mitigate the impacts of glacier melting and ensure the long-term sustainability of the Himalayan ecosystem.\\n“This experience was transformative,” says Shyam, the team’s stakeholder engagement specialist. “The insights we gained will undoubtedly shape our futures in climate adaptation and sustainability.”\\nSearching for Exoplanets\\n\\nAvery Gilson spent 10 days at NASA’s Goddard Space Flight Center in Greenbelt, Md.\\nWhen Avery Gilson was just 15 years old, he read a book on string theory, general relativity, and quantum mechanics, and by his senior year of high school he began working as a production manager at his father’s robotics company. With $2,208 in support, Gilson, now a physics student, had the chance to take his passions a step further as he spent 10 days in August at NASA’s Goddard Space Flight Center in Greenbelt, Md., where he pursued his project, “Research on Polarization Aberrations at NASA’s Goddard Space Flight Center.”\\nAt the Center, Gilson worked with Optical Engineer Breann Sitarski, Ph.D., in support of the Habitable Worlds Observatory (HWO)—the first telescope designed specifically to search for signs of life on planets orbiting other stars. For his research, Gilson mathematically modeled polarization aberrations in the primary mirror of a telescope. He explains that in the search for habitable exoplanets, it is essential to block extremely bright stars and observe faint reflections from exoplanets, which requires high-contrast stability maintained for long periods of time, advanced optics, and precise control.\\nA research assistant with Professor of Physics Ben Ovryn, Ph.D., Gilson is familiar with the intricacies of sophisticated optical instruments and excelled in his work with Sitarski. Back on campus, he plans to experimentally verify several of his NASA calculations in Ovryn’s lab using NASA-provided optical coatings. Ovryn and Sitarski now have a two-year grant from NASA to work on optical engineering challenges associated with the HWO.\\n“As an experimental scientist with a love for optical physics, this project was a dream come true,” Gilson says. “I am tremendously thankful that the fellowship provided an opportunity for me to work at NASA.”\\nMonkey Muscles\\n\\nAleksandra Ratkiewicz performed research at Duke University with postdoctoral research scholar Edwin Dickinson, Ph.D.\\nFor the past two years, osteopathic medicine/academic medicine (D.O./M.S.) student Aleksandra Ratkiewicz has been working on a project under the guidance of Assistant Professor of Anatomy Michael Granatosky, Ph.D., to develop and apply a standardized and automated workflow for studying muscle tissues. The process uses textural recognition algorithms to track individual muscle fascicles in 3-D. Ratkiewicz now seeks to conduct side-by-side comparisons of gross anatomy dissection and digital dissections across the hindlimbs of long-tailed macaques.\\nIn pursuit of the research project, “Developing Algorithmic Techniques for the Tomographic Study of Skeletal Muscle,” and on a mission to obtain the best quality scans for optimal sample processing potential, Ratkiewicz received $5,000 in fellowship funding to split time between Duke University in Durham, N.C., and London.\\nAt Duke, Ratkiewicz spent five days with postdoctoral research scholar Edwin Dickinson, Ph.D., using the university’s powerful, high-resolution Nikon XT H 225 ST micro-CT scanner to scan macaque specimens—a critical step forward in validating the automated digital reconstruction method they are developing. Ratkiewicz then spent the summer analyzing the scans and creating digital reconstructions of the musculature, and on September 9, presented at the three-day Tomography for Scientific Advancement (ToScA) UK & Europe Symposium.\\nAs the data collection continues, Ratkiewicz is gaining much insight into how well gross dissection compares to digital dissection, as well as how valid the algorithmic method is. Additionally, Ratkiewicz has gained a new sense of confidence and independence as a scientist. “This fellowship is a gamechanger in terms of funding and flexibility,” Ratkiewicz says. “I am beyond honored to be chosen and extremely grateful for the provided opportunities. My project would not be possible without this fellowship.”\\nFuture Projects\\nNavjot Guru, an osteopathic medicine/medical and biological sciences (D.O./Ph.D.) student, will complete her project in December when she travels to Singapore for her research, “Advancing Research Horizons: Sharing Findings and Fostering Collaboration Through Conference and Lab Visit.”\\nStudents are selected for the Edward Guiliano Global Fellowship Program based on their applications, including the following metrics: the project’s purpose, goals, and methods; creativity; transformative potential; intended effect; and budget proposal. \\nThe next cohort of selected students will complete their travels during winter 2024 and spring 2025. Interested students may submit their project proposal by November 8.\\n\\n\\n\\n\\n\\n\\nMore News\\n\\n\\n\\n\\n\\n\\n\\n \\n\\n\\nTeamwork Makes the Dream Work\\nM.B.A. students and roommates Krishna Jograna and Ritika Radadiya are inseparable and inspire each other to become better businesswomen.\\n\\n\\nStudent\\n\\n        11.11.24      \\n\\n\\n\\n\\n\\n\\n\\n \\n\\n\\nStudent Veterans Find a Place to Call Home\\nBeginning with recruitment, and building a culture of belonging and offering a pathway to employment, more and more veterans are choosing New York Tech.\\n\\n\\nStudent\\n\\n        11.06.24      \\n\\n\\n\\n\\n\\n\\n\\n \\n\\n\\nNews Byte: Architecture Students Win International Design Competition\\nSchool of Architecture and Design students have been selected as winners of We Are Out of Time’s competition for the design of two sustainable, artistic pavilions in Italy and England.\\n\\n\\nSchool of Architecture & Design\\n\\n        10.25.24      \\n\\n\\n\\n\\n\\n\\n\\n \\n\\n\\nNYITCOM Named an Apple Distinguished School\\nThe College of Osteopathic Medicine has been recognized as an Apple Distinguished School for its continual discovery of ways to leverage Apple technology to educate and train future physicians. \\n\\n\\nCollege of Osteopathic Medicine\\n\\n        10.23.24      \\n\\n\\n\\n\\n\\n\\n\\n \\n\\n\\nFinding Beauty in Numbers\\nMarie-Thérèse Wellington struggled with math in her early schooling, but after learning how to solve those complex problems she can’t imagine her life without the subject.\\n\\n\\nCollege of Arts & Sciences\\n\\n        10.22.24      \\n\\n\\n\\n\\n\\n\\n\\n \\n\\n\\nAdvocating for Her Health\\nAfter her mother and aunt battled breast cancer, NYITCOM student Jeni Sacklow talks about her decision to undergo a prophylactic double mastectomy.\\n\\n\\nFeatures\\n\\n        10.21.24      \\n\\n\\n\\n\\n\\n\\n\\n\\n\\n\\n\\n\\n\\nAll News\\n\\n\\n\\n\\n\\n\\n\\n\\n\\n\\n\\n\\n\\n\\nConnect\\nNews\\nLocations\\nEvents\\nSocial Media\\nContact\\nDirectory\\n \\n\\nAcademics\\nArchitecture & Design\\nArts & Sciences\\nEngineering & Computing Sciences\\nHealth Professions\\nManagement\\nOsteopathic Medicine\\n \\n\\nResources\\nEmergency Info\\nmy.NYIT Portal\\nAcademic Calendar\\nLibraries\\nBookstore\\nJobs\\nDonate\\n \\n\\n\\n\\n\\n\\n\\n\\n\\n\\n\\n\\n\\n\\n\\n\\n\\n\\n\\n\\n\\n\\n\\n\\n\\n\\n\\n\\n\\n\\n\\n\\n\\n\\n\\n\\n\\n\\n\\n\\n\\n\\n\\n\\n\\n\\n\\n\\n\\n© 2024 New York Tech\\n\\nStatement of Non-Discrimination\\nPrivacy Statement\\nTerms & Conditions\\nConsumer Information\\nPolicies\\n \\n\\n\\n\\n\\n\\n\\n\\n\\nBy continuing to use the website, you consent to analytics tracking per New York Tech's Privacy StatementAccept Cookies\\n\\n \\n\\n\""
      ]
     },
     "execution_count": 19,
     "metadata": {},
     "output_type": "execute_result"
    }
   ],
   "source": [
    "from bs4 import BeautifulSoup\n",
    "raw = BeautifulSoup(html, 'html.parser').get_text()\n",
    "raw"
   ]
  },
  {
   "cell_type": "code",
   "execution_count": 20,
   "metadata": {},
   "outputs": [],
   "source": [
    "from nltk import word_tokenize\n",
    "tokens = word_tokenize(raw)"
   ]
  },
  {
   "cell_type": "markdown",
   "metadata": {},
   "source": [
    "2) Normalize all tokens into lowercase. "
   ]
  },
  {
   "cell_type": "code",
   "execution_count": 21,
   "metadata": {},
   "outputs": [],
   "source": [
    "tokens = [w.lower() for w in tokens]"
   ]
  },
  {
   "cell_type": "code",
   "execution_count": 22,
   "metadata": {},
   "outputs": [
    {
     "name": "stdout",
     "output_type": "stream",
     "text": [
      "['guiliano', 'global', 'fellows', ':', 'glacier', 'saviors', ',', 'exoplanets', ',', 'and', 'more', '|', 'new', 'york', 'tech', 'search', 'about', 'media', 'coverage', 'magazine', 'research', 'current', 'students', 'faculty', '&', 'staff', 'alumni', 'vancouver', 'request', 'info', 'visit', 'apply', 'give', 'guiliano', 'global', 'fellows', ':', 'glacier', 'saviors', ',', 'exoplanets', ',', 'and', 'more', 'allison', 'eichler|', 'october', '8', ',', '2024', 'home', '>', 'new', 'york', 'tech', 'news', '>', 'articles', '>', 'guiliano', 'global', 'fellows', ':', 'glacier', 'saviors', ',', 'exoplanets', ',', 'and', 'more', 'explore', 'explore', 'news', 'media', 'coverage', 'expert', 'insights', 'news', 'archive', 'media', 'coverage', 'archive', 'pictured', ':', 'dev', 'sharma', '(', 'standing', ',', 'middle', ')', 'and', 'dolly', 'shyam', '(', 'right', ')', 'interviewed', 'farmers', 'to', 'gain', 'insight', 'into', 'the', 'impact', 'of', 'artificial', 'glaciers', 'in', 'the', 'local', 'village', ',', 'located', 'at', 'an', 'altitude', 'of', '13,000', 'feet', 'in', 'the', 'northwestern', 'himalayas', '.', 'since', 'the', 'edward', 'guiliano', 'global', 'fellowship', 'program', '’', 's', 'inception', 'in', '2014', ',', 'more', 'than', '200', 'new', 'york', 'tech', 'students', 'have', 'participated', 'in', 'experiential-based', 'learning', 'opportunities', 'across', 'the', 'united', 'states', 'and', 'in', 'countries', 'like', 'costa', 'rica', ',', 'mongolia', ',', 'canada', ',', 'eswatini', ',', 'and', 'more', '.', 'for', 'the', 'last', '10', 'years', ',', 'the', 'fellowship', 'has', 'enabled', 'these', 'young', 'scholars', 'to', 'take', 'high-level', 'research', 'trips', ',', 'linking', 'their', 'academic', 'studies', 'with', 'a', 'broader', 'perspective', 'of', 'the', 'world', 'around', 'them', '.', 'the', 'most', 'recent', 'cohort', 'journeyed', 'at', 'least', '200', 'miles', 'from', 'their', 'home', 'or', 'new', 'york', 'tech', 'campus—staying', 'as', '“', 'local', '”', 'as', 'maryland', 'and', 'trekking', 'as', 'far', 'as', 'india—and', 'were', 'supported', 'with', 'monetary', 'amounts', 'between', '$', '750', 'and', '$', '5,000', '.', 'one', 'student', ',', 'navjot', 'guru', ',', 'has', 'yet', 'to', 'complete', 'her', 'research', 'trip', ',', 'but', 'new', 'york', 'tech', 'news', 'caught', 'up', 'with', 'a', 'few', 'who', 'have', 'returned', 'to', 'learn', 'about', 'their', 'transformative', 'experiences', '.', 'historic', 'medicine', 'noah', 'hoonhout', 'fused', 'his', 'passions', 'for', 'history', 'and', 'medicine', 'with', 'his', 'research', 'at', 'the', 'royal', 'college', 'of', 'surgeons', 'of', 'england', 'and', 'at', 'kings', 'college', 'london', '.', 'osteopathic', 'medicine', 'student', 'noah', 'hoonhout', 'has', 'a', 'bachelor', '’', 's', 'degree', 'in', 'history', ',', 'so', 'it', 'is', 'fitting', 'that', 'with', 'his', '$', '2,750', 'in', 'fellowship', 'funding', 'he', 'would', 'travel', 'to', 'london', 'to', 'complete', 'his', 'project', '“', 'the', 'romantic', 'medicine', 'of', 'joseph', 'henry', 'green.', '”', 'for', 'one', 'week', 'in', 'july', ',', 'hoonhout', 'performed', 'research', 'within', 'the', 'archives', 'of', 'the', 'royal', 'college', 'of', 'surgeons', 'of', 'england', 'and', 'at', 'kings', 'college', 'london', ',', 'studying', '19th-century', 'english', 'physician', 'joseph', 'henry', 'green', '.', 'with', 'great', 'interest', 'in', 'the', 'history', 'of', 'medicine', ',', 'hoonhout', 'sought', 'to', 'examine', 'green', '’', 's', 'contributions', 'at', 'the', 'intersection', 'of', 'the', 'humanities', 'and', 'medicine', '.', 'through', 'reading', 'the', 'physician', '’', 's', 'books', ',', 'essays', ',', 'and', 'letters', ',', 'he', 'learned', 'of', 'green', '’', 's', 'biography', ',', 'academic', 'interests', ',', 'and', 'career', 'achievements', ',', 'including', 'an', 'assortment', 'of', 'philosophical', 'work—which', 'may', 'have', 'influenced', 'the', 'medical', 'field', 'at', 'the', 'time', '.', 'reading', 'green', '’', 's', 'debates', 'about', 'human', 'anatomy', ',', 'evolution', ',', 'medical', 'reform', ',', 'and', 'philosophy', 'showed', 'hoonhout', 'how', 'past', 'physicians', 'viewed', 'the', 'medical', 'profession', ';', 'his', 'own', 'desire', 'to', 'pursue', 'medicine', 'has', 'only', 'been', 'reaffirmed', 'as', 'he', 'synthesizes', 'his', 'research', 'discoveries', '.', '“', 'this', 'research', 'trip', 'was', 'like', 'a', 'gateway', 'into', 'the', 'academic', 'world', 'of', 'the', 'history', 'of', 'medicine', ',', '”', 'hoonhout', 'says', '.', '“', 'i', 'am', 'very', 'grateful', 'for', 'the', 'fellowship', 'program', 'giving', 'me', 'this', 'opportunity.', '”', 'himalayan', 'glacier', 'saviors', 'laetitia', 'mouafo', 'served', 'as', 'her', 'team', '’', 's', 'data', 'scientist', 'in', 'analyzing', 'glacier', 'activity', 'in', 'the', 'himalayas', 'in', 'leh', ',', 'ladakh', ',', 'india', '.', 'with', 'a', 'shared', 'passion', 'for', 'climate', 'change', 'and', 'sustainability', ',', 'graduate', 'data', 'science', 'students', 'laetitia', 'mouafo', ',', 'dev', 'sharma', ',', 'and', 'dolly', 'shyam', 'received', 'a', 'total', 'of', '$', '11,745', 'to', 'support', 'their', 'travel', 'to', 'leh', ',', 'ladakh', ',', 'india', ',', 'where', 'they', 'collaborated', 'with', 'local', 'communities', 'for', 'their', 'research', 'project', ',', '“', 'leveraging', 'data', 'science', 'to', 'mitigate', 'glacier', 'melting', 'in', 'the', 'himalayas.', '”', 'located', 'on', 'the', 'northwestern', 'end', 'of', 'the', 'himalayas', ',', 'ladakh', 'is', 'known', 'for', 'its', 'cold', 'desert', 'climate', ',', 'minimal', 'precipitation', ',', 'and', 'heavy', 'reliance', 'on', 'glacial', 'meltwater', 'for', 'agriculture', '.', 'but', 'climate', 'change', 'has', 'caused', 'a', 'rapid', 'retreat', 'of', 'glaciers', ',', 'creating', 'water', 'scarcity', 'and', 'threatening', 'agricultural', 'livelihood', ',', 'explains', 'sharma', ',', 'who', 'served', 'as', 'the', 'team', '’', 's', 'climate', 'scientist', '.', 'to', 'counteract', 'these', 'effects', ',', 'ladakh', 'locals', 'have', 'developed', 'artificial', 'glaciers', ',', 'or', '“', 'ice', 'stupas.', '”', 'these', 'conical', 'structures', 'use', 'remote', 'sensing', 'technologies', 'and', 'ground', 'surveys', 'to', 'store', 'water', 'during', 'the', 'winter', 'and', 'gradually', 'release', 'it', 'during', 'warmer', 'months', ',', 'ensuring', 'a', 'sustained', 'water', 'supply', 'for', 'irrigation', 'during', 'the', 'pre-sowing', 'period', '.', 'on-site', ',', 'the', 'trio', '’', 's', 'research', 'involved', 'gathering', 'and', 'analyzing', 'datasets', 'related', 'to', 'glacier', 'characteristics', ',', 'climate', 'patterns', ',', 'and', 'environmental', 'factors', 'contributing', 'to', 'melting', '.', 'mouafo', ',', 'the', 'team', '’', 's', 'data', 'scientist', ',', 'says', 'the', 'group', 'used', 'advanced', 'data', 'analysis', 'and', 'machine', 'learning', 'algorithms', 'to', 'identify', 'key', 'drivers', 'of', 'glacier', 'melting', ',', 'predict', 'future', 'trends', ',', 'and', 'explore', 'potential', 'solutions', ',', 'such', 'as', 'improved', 'water', 'resource', 'management', 'and', 'sustainable', 'land', 'use', 'practices', '.', 'the', 'team', 'provided', 'actionable', 'recommendations', 'to', 'policymakers', 'and', 'local', 'communities', 'to', 'help', 'mitigate', 'the', 'impacts', 'of', 'glacier', 'melting', 'and', 'ensure', 'the', 'long-term', 'sustainability', 'of', 'the', 'himalayan', 'ecosystem', '.', '“', 'this', 'experience', 'was', 'transformative', ',', '”', 'says', 'shyam', ',', 'the', 'team', '’', 's', 'stakeholder', 'engagement', 'specialist', '.', '“', 'the', 'insights', 'we', 'gained', 'will', 'undoubtedly', 'shape', 'our', 'futures', 'in', 'climate', 'adaptation', 'and', 'sustainability.', '”', 'searching', 'for', 'exoplanets', 'avery', 'gilson', 'spent', '10', 'days', 'at', 'nasa', '’', 's', 'goddard', 'space', 'flight', 'center', 'in', 'greenbelt', ',', 'md', '.', 'when', 'avery', 'gilson', 'was', 'just', '15', 'years', 'old', ',', 'he', 'read', 'a', 'book', 'on', 'string', 'theory', ',', 'general', 'relativity', ',', 'and', 'quantum', 'mechanics', ',', 'and', 'by', 'his', 'senior', 'year', 'of', 'high', 'school', 'he', 'began', 'working', 'as', 'a', 'production', 'manager', 'at', 'his', 'father', '’', 's', 'robotics', 'company', '.', 'with', '$', '2,208', 'in', 'support', ',', 'gilson', ',', 'now', 'a', 'physics', 'student', ',', 'had', 'the', 'chance', 'to', 'take', 'his', 'passions', 'a', 'step', 'further', 'as', 'he', 'spent', '10', 'days', 'in', 'august', 'at', 'nasa', '’', 's', 'goddard', 'space', 'flight', 'center', 'in', 'greenbelt', ',', 'md.', ',', 'where', 'he', 'pursued', 'his', 'project', ',', '“', 'research', 'on', 'polarization', 'aberrations', 'at', 'nasa', '’', 's', 'goddard', 'space', 'flight', 'center.', '”', 'at', 'the', 'center', ',', 'gilson', 'worked', 'with', 'optical', 'engineer', 'breann', 'sitarski', ',', 'ph.d.', ',', 'in', 'support', 'of', 'the', 'habitable', 'worlds', 'observatory', '(', 'hwo', ')', '—the', 'first', 'telescope', 'designed', 'specifically', 'to', 'search', 'for', 'signs', 'of', 'life', 'on', 'planets', 'orbiting', 'other', 'stars', '.', 'for', 'his', 'research', ',', 'gilson', 'mathematically', 'modeled', 'polarization', 'aberrations', 'in', 'the', 'primary', 'mirror', 'of', 'a', 'telescope', '.', 'he', 'explains', 'that', 'in', 'the', 'search', 'for', 'habitable', 'exoplanets', ',', 'it', 'is', 'essential', 'to', 'block', 'extremely', 'bright', 'stars', 'and', 'observe', 'faint', 'reflections', 'from', 'exoplanets', ',', 'which', 'requires', 'high-contrast', 'stability', 'maintained', 'for', 'long', 'periods', 'of', 'time', ',', 'advanced', 'optics', ',', 'and', 'precise', 'control', '.', 'a', 'research', 'assistant', 'with', 'professor', 'of', 'physics', 'ben', 'ovryn', ',', 'ph.d.', ',', 'gilson', 'is', 'familiar', 'with', 'the', 'intricacies', 'of', 'sophisticated', 'optical', 'instruments', 'and', 'excelled', 'in', 'his', 'work', 'with', 'sitarski', '.', 'back', 'on', 'campus', ',', 'he', 'plans', 'to', 'experimentally', 'verify', 'several', 'of', 'his', 'nasa', 'calculations', 'in', 'ovryn', '’', 's', 'lab', 'using', 'nasa-provided', 'optical', 'coatings', '.', 'ovryn', 'and', 'sitarski', 'now', 'have', 'a', 'two-year', 'grant', 'from', 'nasa', 'to', 'work', 'on', 'optical', 'engineering', 'challenges', 'associated', 'with', 'the', 'hwo', '.', '“', 'as', 'an', 'experimental', 'scientist', 'with', 'a', 'love', 'for', 'optical', 'physics', ',', 'this', 'project', 'was', 'a', 'dream', 'come', 'true', ',', '”', 'gilson', 'says', '.', '“', 'i', 'am', 'tremendously', 'thankful', 'that', 'the', 'fellowship', 'provided', 'an', 'opportunity', 'for', 'me', 'to', 'work', 'at', 'nasa.', '”', 'monkey', 'muscles', 'aleksandra', 'ratkiewicz', 'performed', 'research', 'at', 'duke', 'university', 'with', 'postdoctoral', 'research', 'scholar', 'edwin', 'dickinson', ',', 'ph.d.', 'for', 'the', 'past', 'two', 'years', ',', 'osteopathic', 'medicine/academic', 'medicine', '(', 'd.o./m.s', '.', ')', 'student', 'aleksandra', 'ratkiewicz', 'has', 'been', 'working', 'on', 'a', 'project', 'under', 'the', 'guidance', 'of', 'assistant', 'professor', 'of', 'anatomy', 'michael', 'granatosky', ',', 'ph.d.', ',', 'to', 'develop', 'and', 'apply', 'a', 'standardized', 'and', 'automated', 'workflow', 'for', 'studying', 'muscle', 'tissues', '.', 'the', 'process', 'uses', 'textural', 'recognition', 'algorithms', 'to', 'track', 'individual', 'muscle', 'fascicles', 'in', '3-d.', 'ratkiewicz', 'now', 'seeks', 'to', 'conduct', 'side-by-side', 'comparisons', 'of', 'gross', 'anatomy', 'dissection', 'and', 'digital', 'dissections', 'across', 'the', 'hindlimbs', 'of', 'long-tailed', 'macaques', '.', 'in', 'pursuit', 'of', 'the', 'research', 'project', ',', '“', 'developing', 'algorithmic', 'techniques', 'for', 'the', 'tomographic', 'study', 'of', 'skeletal', 'muscle', ',', '”', 'and', 'on', 'a', 'mission', 'to', 'obtain', 'the', 'best', 'quality', 'scans', 'for', 'optimal', 'sample', 'processing', 'potential', ',', 'ratkiewicz', 'received', '$', '5,000', 'in', 'fellowship', 'funding', 'to', 'split', 'time', 'between', 'duke', 'university', 'in', 'durham', ',', 'n.c.', ',', 'and', 'london', '.', 'at', 'duke', ',', 'ratkiewicz', 'spent', 'five', 'days', 'with', 'postdoctoral', 'research', 'scholar', 'edwin', 'dickinson', ',', 'ph.d.', ',', 'using', 'the', 'university', '’', 's', 'powerful', ',', 'high-resolution', 'nikon', 'xt', 'h', '225', 'st', 'micro-ct', 'scanner', 'to', 'scan', 'macaque', 'specimens—a', 'critical', 'step', 'forward', 'in', 'validating', 'the', 'automated', 'digital', 'reconstruction', 'method', 'they', 'are', 'developing', '.', 'ratkiewicz', 'then', 'spent', 'the', 'summer', 'analyzing', 'the', 'scans', 'and', 'creating', 'digital', 'reconstructions', 'of', 'the', 'musculature', ',', 'and', 'on', 'september', '9', ',', 'presented', 'at', 'the', 'three-day', 'tomography', 'for', 'scientific', 'advancement', '(', 'tosca', ')', 'uk', '&', 'europe', 'symposium', '.', 'as', 'the', 'data', 'collection', 'continues', ',', 'ratkiewicz', 'is', 'gaining', 'much', 'insight', 'into', 'how', 'well', 'gross', 'dissection', 'compares', 'to', 'digital', 'dissection', ',', 'as', 'well', 'as', 'how', 'valid', 'the', 'algorithmic', 'method', 'is', '.', 'additionally', ',', 'ratkiewicz', 'has', 'gained', 'a', 'new', 'sense', 'of', 'confidence', 'and', 'independence', 'as', 'a', 'scientist', '.', '“', 'this', 'fellowship', 'is', 'a', 'gamechanger', 'in', 'terms', 'of', 'funding', 'and', 'flexibility', ',', '”', 'ratkiewicz', 'says', '.', '“', 'i', 'am', 'beyond', 'honored', 'to', 'be', 'chosen', 'and', 'extremely', 'grateful', 'for', 'the', 'provided', 'opportunities', '.', 'my', 'project', 'would', 'not', 'be', 'possible', 'without', 'this', 'fellowship.', '”', 'future', 'projects', 'navjot', 'guru', ',', 'an', 'osteopathic', 'medicine/medical', 'and', 'biological', 'sciences', '(', 'd.o./ph.d', '.', ')', 'student', ',', 'will', 'complete', 'her', 'project', 'in', 'december', 'when', 'she', 'travels', 'to', 'singapore', 'for', 'her', 'research', ',', '“', 'advancing', 'research', 'horizons', ':', 'sharing', 'findings', 'and', 'fostering', 'collaboration', 'through', 'conference', 'and', 'lab', 'visit.', '”', 'students', 'are', 'selected', 'for', 'the', 'edward', 'guiliano', 'global', 'fellowship', 'program', 'based', 'on', 'their', 'applications', ',', 'including', 'the', 'following', 'metrics', ':', 'the', 'project', '’', 's', 'purpose', ',', 'goals', ',', 'and', 'methods', ';', 'creativity', ';', 'transformative', 'potential', ';', 'intended', 'effect', ';', 'and', 'budget', 'proposal', '.', 'the', 'next', 'cohort', 'of', 'selected', 'students', 'will', 'complete', 'their', 'travels', 'during', 'winter', '2024', 'and', 'spring', '2025', '.', 'interested', 'students', 'may', 'submit', 'their', 'project', 'proposal', 'by', 'november', '8', '.', 'more', 'news', 'teamwork', 'makes', 'the', 'dream', 'work', 'm.b.a.', 'students', 'and', 'roommates', 'krishna', 'jograna', 'and', 'ritika', 'radadiya', 'are', 'inseparable', 'and', 'inspire', 'each', 'other', 'to', 'become', 'better', 'businesswomen', '.', 'student', '11.11.24', 'student', 'veterans', 'find', 'a', 'place', 'to', 'call', 'home', 'beginning', 'with', 'recruitment', ',', 'and', 'building', 'a', 'culture', 'of', 'belonging', 'and', 'offering', 'a', 'pathway', 'to', 'employment', ',', 'more', 'and', 'more', 'veterans', 'are', 'choosing', 'new', 'york', 'tech', '.', 'student', '11.06.24', 'news', 'byte', ':', 'architecture', 'students', 'win', 'international', 'design', 'competition', 'school', 'of', 'architecture', 'and', 'design', 'students', 'have', 'been', 'selected', 'as', 'winners', 'of', 'we', 'are', 'out', 'of', 'time', '’', 's', 'competition', 'for', 'the', 'design', 'of', 'two', 'sustainable', ',', 'artistic', 'pavilions', 'in', 'italy', 'and', 'england', '.', 'school', 'of', 'architecture', '&', 'design', '10.25.24', 'nyitcom', 'named', 'an', 'apple', 'distinguished', 'school', 'the', 'college', 'of', 'osteopathic', 'medicine', 'has', 'been', 'recognized', 'as', 'an', 'apple', 'distinguished', 'school', 'for', 'its', 'continual', 'discovery', 'of', 'ways', 'to', 'leverage', 'apple', 'technology', 'to', 'educate', 'and', 'train', 'future', 'physicians', '.', 'college', 'of', 'osteopathic', 'medicine', '10.23.24', 'finding', 'beauty', 'in', 'numbers', 'marie-thérèse', 'wellington', 'struggled', 'with', 'math', 'in', 'her', 'early', 'schooling', ',', 'but', 'after', 'learning', 'how', 'to', 'solve', 'those', 'complex', 'problems', 'she', 'can', '’', 't', 'imagine', 'her', 'life', 'without', 'the', 'subject', '.', 'college', 'of', 'arts', '&', 'sciences', '10.22.24', 'advocating', 'for', 'her', 'health', 'after', 'her', 'mother', 'and', 'aunt', 'battled', 'breast', 'cancer', ',', 'nyitcom', 'student', 'jeni', 'sacklow', 'talks', 'about', 'her', 'decision', 'to', 'undergo', 'a', 'prophylactic', 'double', 'mastectomy', '.', 'features', '10.21.24', 'all', 'news', 'connect', 'news', 'locations', 'events', 'social', 'media', 'contact', 'directory', 'academics', 'architecture', '&', 'design', 'arts', '&', 'sciences', 'engineering', '&', 'computing', 'sciences', 'health', 'professions', 'management', 'osteopathic', 'medicine', 'resources', 'emergency', 'info', 'my.nyit', 'portal', 'academic', 'calendar', 'libraries', 'bookstore', 'jobs', 'donate', '©', '2024', 'new', 'york', 'tech', 'statement', 'of', 'non-discrimination', 'privacy', 'statement', 'terms', '&', 'conditions', 'consumer', 'information', 'policies', 'by', 'continuing', 'to', 'use', 'the', 'website', ',', 'you', 'consent', 'to', 'analytics', 'tracking', 'per', 'new', 'york', 'tech', \"'s\", 'privacy', 'statementaccept', 'cookies']\n"
     ]
    }
   ],
   "source": [
    "print(tokens)"
   ]
  },
  {
   "cell_type": "markdown",
   "metadata": {},
   "source": [
    "3)Find out all tokens that end with \"ing\", and then write those tokens to the text file \"words.txt\"\n"
   ]
  },
  {
   "cell_type": "code",
   "execution_count": 23,
   "metadata": {},
   "outputs": [],
   "source": [
    "ing_tokens = [token for token in tokens if token.endswith('ing')]\n",
    "\n",
    "# Write the tokens to a text file\n",
    "with open('words.txt', 'w') as file:\n",
    "    for token in ing_tokens:\n",
    "        file.write(token + '\\n')"
   ]
  }
 ],
 "metadata": {
  "kernelspec": {
   "display_name": "py38",
   "language": "python",
   "name": "python3"
  },
  "language_info": {
   "codemirror_mode": {
    "name": "ipython",
    "version": 3
   },
   "file_extension": ".py",
   "mimetype": "text/x-python",
   "name": "python",
   "nbconvert_exporter": "python",
   "pygments_lexer": "ipython3",
   "version": "3.8.19"
  }
 },
 "nbformat": 4,
 "nbformat_minor": 2
}
